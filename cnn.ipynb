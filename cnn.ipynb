{
  "cells": [
    {
      "cell_type": "code",
      "execution_count": null,
      "metadata": {
        "id": "zcIckYd2lY1Y"
      },
      "outputs": [],
      "source": [
        "import numpy as np\n",
        "import pandas as pd\n",
        "\n",
        "import tensorflow as tf\n",
        "from tensorflow.keras import layers, models\n",
        "from tensorflow.keras.preprocessing.image import apply_affine_transform\n",
        "from tensorflow.keras.regularizers import l2\n",
        "from tensorflow.keras.optimizers import RMSprop, Adam\n",
        "from tensorflow.keras.losses import CategoricalCrossentropy\n",
        "from tensorflow.keras.callbacks import ReduceLROnPlateau\n",
        "\n",
        "from sklearn.metrics import f1_score\n",
        "from sklearn.model_selection import train_test_split\n",
        "from sklearn.utils import class_weight\n",
        "\n",
        "\n",
        "from PIL import Image\n",
        "import matplotlib.pyplot as plt\n",
        "\n",
        "from collections import Counter\n"
      ]
    },
    {
      "cell_type": "markdown",
      "metadata": {
        "id": "tjiaq_06lY1Z"
      },
      "source": [
        "# Load Dataset"
      ]
    },
    {
      "cell_type": "code",
      "execution_count": null,
      "metadata": {
        "colab": {
          "base_uri": "https://localhost:8080/",
          "height": 242
        },
        "id": "KTE8aFgtlY1b",
        "outputId": "3a635c57-7f3a-4033-f085-e39b2ba30ede"
      },
      "outputs": [],
      "source": [
        "CSV_FILE_NAME = './data/my_file.csv'\n",
        "# CSV_FILE_NAME = './data/my_file_400.csv'\n",
        "arr = pd.read_csv(CSV_FILE_NAME, header=None)"
      ]
    },
    {
      "cell_type": "code",
      "execution_count": null,
      "metadata": {
        "colab": {
          "base_uri": "https://localhost:8080/",
          "height": 381
        },
        "id": "cD8kBY_RlY1c",
        "outputId": "761a067d-da05-4d67-ec5f-64b19d83d1ee"
      },
      "outputs": [],
      "source": [
        "X, y_class, y_reg = arr.iloc[:, :-5].values, arr.iloc[:, -5:-4].values, arr.iloc[:, -4:].values\n",
        "X = X.reshape(-1, 200, 200, 1)\n",
        "# X = X.reshape(-1, 400, 400, 1)\n",
        "\n",
        "\n",
        "# one hot encoding\n",
        "y_class = tf.keras.utils.to_categorical(y_class, num_classes=17)\n",
        "\n",
        "# dataset split\n",
        "X_train, X_test, y_train_class, y_test_class = train_test_split(X, y_class, test_size=0.2, random_state=42, stratify=y_class)\n",
        "\n",
        "\n",
        "# if no data augmentation\n",
        "class_weights = class_weight.compute_class_weight(class_weight='balanced',\n",
        "                                                  classes=np.unique(y_train_class.argmax(axis=1)),\n",
        "                                                  y=y_train_class.argmax(axis=1))\n",
        "\n",
        "class_weights_dict = dict(enumerate(class_weights))\n"
      ]
    },
    {
      "cell_type": "markdown",
      "metadata": {
        "id": "9rDgtJQ_lY1d"
      },
      "source": [
        "# Data Augmentation"
      ]
    },
    {
      "cell_type": "code",
      "execution_count": null,
      "metadata": {
        "id": "VV8RxkPwlY1d"
      },
      "outputs": [],
      "source": [
        "# def apply_augmentation(images):\n",
        "#     augmented_images = []\n",
        "#     for image in images:\n",
        "#         augmented_image = image.copy()\n",
        "\n",
        "#         # shear\n",
        "#         shear_intensity = np.random.uniform(-0.1, 0.1)\n",
        "#         augmented_image = apply_affine_transform(augmented_image, shear=shear_intensity)\n",
        "\n",
        "#         # zoom\n",
        "#         zoom_factor = np.random.uniform(0.9, 1.1)\n",
        "#         augmented_image = apply_affine_transform(augmented_image, zx=zoom_factor, zy=zoom_factor)\n",
        "\n",
        "#         # # shift\n",
        "#         # width_shift = np.random.uniform(-0.1, 0.1)\n",
        "#         # height_shift = np.random.uniform(-0.1, 0.1)\n",
        "#         # augmented_image = apply_affine_transform(augmented_image, tx=width_shift, ty=height_shift)\n",
        "\n",
        "#         # rotate\n",
        "#         rotation_angle = np.random.uniform(-45, 45)\n",
        "#         augmented_image = apply_affine_transform(augmented_image, theta=rotation_angle)\n",
        "\n",
        "#         # # flip\n",
        "#         # if np.random.rand() < 0.5:\n",
        "#         #     augmented_image = np.fliplr(augmented_image)\n",
        "#         # if np.random.rand() < 0.5:\n",
        "#         #     augmented_image = np.flipud(augmented_image)\n",
        "\n",
        "#         # brightness\n",
        "#         brightness_factor = np.random.uniform(0.5, 1.5)\n",
        "#         augmented_image *= brightness_factor\n",
        "\n",
        "#         # make sure valeus are between 0 and 1\n",
        "#         augmented_image = np.clip(augmented_image, 0.0, 1.0)\n",
        "\n",
        "#         augmented_images.append(augmented_image)\n",
        "\n",
        "#     return augmented_images\n"
      ]
    },
    {
      "cell_type": "code",
      "execution_count": null,
      "metadata": {
        "id": "3pncfhL6lY1e"
      },
      "outputs": [],
      "source": [
        "# # add augmented data to each class until they each have 100 samples\n",
        "\n",
        "# y_train_integers = np.argmax(y_train_class, axis=1)\n",
        "# max_samples = 100\n",
        "\n",
        "# X_augmented, y_augmented = [], []\n",
        "\n",
        "# for label in np.unique(y_train_integers):\n",
        "#     curr_samples = sum(y_train_integers == label)\n",
        "\n",
        "#     if curr_samples < max_samples:\n",
        "#         num_augmented = max_samples - curr_samples\n",
        "\n",
        "#         samples = X_train[y_train_integers == label]\n",
        "#         indices = np.random.choice(len(samples), size=num_augmented, replace=True)\n",
        "#         samples = samples[indices]\n",
        "\n",
        "#         augmented_samples = apply_augmentation(samples)\n",
        "\n",
        "#         X_augmented.extend(augmented_samples)\n",
        "\n",
        "#         one_hot = np.zeros((1, 18))\n",
        "#         one_hot[0, label] = 1\n",
        "#         y_augmented.extend([one_hot] * num_augmented)\n",
        "\n",
        "\n",
        "# X_augmented = np.array(X_augmented)\n",
        "# y_augmented = np.array(y_augmented)\n",
        "\n",
        "# X_balanced = np.concatenate((X_train, X_augmented))\n",
        "# y_balanced = np.concatenate((y_train_class, y_augmented.reshape(-1, 18)))"
      ]
    },
    {
      "cell_type": "code",
      "execution_count": null,
      "metadata": {
        "id": "ezN84Q4PlY1f"
      },
      "outputs": [],
      "source": [
        "# print (\"number of training examples = \" + str(X_balanced.shape[0]))\n",
        "# print (\"number of test examples = \" + str(X_test.shape[0]))\n",
        "# print (\"X_train shape: \" + str(X_balanced.shape))\n",
        "# print (\"Y_train shape: \" + str(y_balanced.shape))\n",
        "# print (\"X_test shape: \" + str(X_test.shape))\n",
        "# print (\"Y_test shape: \" + str(y_test_class.shape))"
      ]
    },
    {
      "cell_type": "code",
      "execution_count": null,
      "metadata": {
        "colab": {
          "base_uri": "https://localhost:8080/",
          "height": 434
        },
        "id": "wbpeAiDmlY1h",
        "outputId": "d35ff767-5212-4c7e-975d-7b9db0312c0a"
      },
      "outputs": [],
      "source": [
        "# # display image\n",
        "# index = 10\n",
        "# print(\"label: \", y_train_class[index])\n",
        "# img_array = X_train[index].reshape(400, 400)\n",
        "# image = Image.fromarray((img_array * 255))\n",
        "\n",
        "# plt.imshow(image, cmap='gray')\n",
        "# plt.show()"
      ]
    },
    {
      "cell_type": "code",
      "execution_count": null,
      "metadata": {
        "id": "P-z_AW-XlY1i"
      },
      "outputs": [],
      "source": []
    },
    {
      "cell_type": "markdown",
      "metadata": {
        "id": "y2QuVowdlY1j"
      },
      "source": [
        "# Model"
      ]
    },
    {
      "cell_type": "code",
      "execution_count": null,
      "metadata": {
        "colab": {
          "base_uri": "https://localhost:8080/"
        },
        "id": "G5ZH1jpMlY1j",
        "outputId": "4fc3f863-37fe-4c66-9afe-3343e7924860"
      },
      "outputs": [],
      "source": [
        "model = models.Sequential([\n",
        "    layers.Input(shape=(200, 200, 1)),\n",
        "    # layers.Input(shape=(400, 400, 1)),\n",
        "    layers.Conv2D(32, 3, activation='relu'),\n",
        "    # layers.Conv2D(32, 3, kernel_regularizer=l2(0.0001), activation='relu'),\n",
        "    layers.MaxPooling2D(2),\n",
        "    layers.Conv2D(64, 3, activation='relu'),\n",
        "    # layers.Conv2D(64, 3, kernel_regularizer=l2(0.0001), activation='relu'),\n",
        "    layers.MaxPooling2D(2),\n",
        "    layers.Flatten(),\n",
        "    layers.Dropout(0.2),\n",
        "    layers.Dense(64, activation='relu'),\n",
        "    layers.Dropout(0.2),\n",
        "    layers.Dense(17, activation='softmax')\n",
        "])\n",
        "\n",
        "\n",
        "reduce_lr = ReduceLROnPlateau(monitor='val_loss', factor=np.sqrt(0.1), patience=5)\n",
        "\n",
        "# f1_metric = tf.metrics.F1Score(average='macro')\n",
        "f1_metric = tf.metrics.F1Score(average='weighted') # if no data augmentation\n",
        "\n",
        "\n",
        "model.compile(optimizer=Adam(0.001),\n",
        "              loss=CategoricalCrossentropy(),\n",
        "              metrics=['accuracy', f1_metric])\n",
        "\n",
        "\n",
        "model.summary()"
      ]
    },
    {
      "cell_type": "code",
      "execution_count": null,
      "metadata": {
        "colab": {
          "base_uri": "https://localhost:8080/",
          "height": 332
        },
        "id": "RT1sGV3ZlY1k",
        "outputId": "1b7c21e4-5759-4770-b716-5fe6a707b355"
      },
      "outputs": [],
      "source": [
        "# history = model.fit(X_balanced, y_balanced, epochs=20, validation_data=(X_test, y_test_class))\n",
        "history = model.fit(X_train, y_train_class, epochs=50, validation_data=(X_test, y_test_class), class_weight=class_weights_dict, callbacks=[reduce_lr]) # if no data augmentation"
      ]
    },
    {
      "cell_type": "code",
      "execution_count": null,
      "metadata": {
        "id": "V075wvYOlY1k"
      },
      "outputs": [],
      "source": [
        "# Convert model history dictionary to DataFrame\n",
        "df_loss_acc = pd.DataFrame(model.history.history)\n",
        "\n",
        "# Select loss columns and rename\n",
        "df_loss = df_loss_acc[['loss', 'val_loss']].copy()\n",
        "df_loss.rename(columns={'loss': 'train', 'val_loss': 'validation'}, inplace=True)\n",
        "\n",
        "# Select accuracy columns and rename\n",
        "df_acc = df_loss_acc[['accuracy', 'val_accuracy']].copy()\n",
        "df_acc.rename(columns={'accuracy': 'train', 'val_accuracy': 'validation'}, inplace=True)\n",
        "\n",
        "# Plot model loss\n",
        "df_loss.plot(title='Model loss', figsize=(12, 8)).set(xlabel='Epoch', ylabel='Loss')\n",
        "\n",
        "# Plot model accuracy\n",
        "df_acc.plot(title='Model Accuracy', figsize=(12, 8)).set(xlabel='Epoch', ylabel='Accuracy')\n"
      ]
    },
    {
      "cell_type": "code",
      "execution_count": null,
      "metadata": {
        "id": "SmRrgMQSlY1k"
      },
      "outputs": [],
      "source": [
        "result = model.evaluate(X_test, y_test_class)\n",
        "print(\"Result:\", result)"
      ]
    },
    {
      "cell_type": "code",
      "execution_count": null,
      "metadata": {},
      "outputs": [],
      "source": [
        "model = models.Sequential([\n",
        "    layers.Input(shape=(200, 200, 1)),\n",
        "    layers.Conv2D(32, 3, activation='relu'),\n",
        "    layers.MaxPooling2D(2),\n",
        "    layers.Conv2D(64, 3, activation='relu'),\n",
        "    layers.MaxPooling2D(2),\n",
        "    layers.Flatten(),\n",
        "    layers.Dropout(0.2),\n",
        "    layers.Dense(64, activation='relu'),\n",
        "    layers.Dropout(0.2),\n",
        "    layers.Dense(17, activation='softmax'),\n",
        "])\n",
        "\n",
        "\n",
        "# f1_metric = tf.metrics.F1Score(average='macro')\n",
        "f1_metric = tf.metrics.F1Score(average='weighted') # if no data augmentation\n",
        "\n",
        "model.compile(optimizer=Adam(learning_rate=0.00001),\n",
        "              loss=CategoricalCrossentropy(),\n",
        "              metrics=['accuracy', f1_metric])\n",
        "\n",
        "\n",
        "model.summary()\n"
      ]
    },
    {
      "cell_type": "code",
      "execution_count": null,
      "metadata": {},
      "outputs": [],
      "source": [
        "history2 = model.fit(X_train, y_train_class, epochs=50, validation_data=(X_test, y_test_class), class_weight=class_weights_dict) # if no data augmentation"
      ]
    },
    {
      "cell_type": "code",
      "execution_count": null,
      "metadata": {},
      "outputs": [],
      "source": [
        "history2_continued = model.fit(X_train, y_train_class, epochs=100, initial_epoch=50, validation_data=(X_test, y_test_class), class_weight=class_weights_dict) # if no data augmentation"
      ]
    }
  ],
  "metadata": {
    "colab": {
      "provenance": []
    },
    "kernelspec": {
      "display_name": "Python 3",
      "name": "python3"
    },
    "language_info": {
      "codemirror_mode": {
        "name": "ipython",
        "version": 3
      },
      "file_extension": ".py",
      "mimetype": "text/x-python",
      "name": "python",
      "nbconvert_exporter": "python",
      "pygments_lexer": "ipython3",
      "version": "3.12.2"
    }
  },
  "nbformat": 4,
  "nbformat_minor": 0
}
