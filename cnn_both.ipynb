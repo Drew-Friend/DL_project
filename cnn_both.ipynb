{
  "cells": [
    {
      "cell_type": "code",
      "execution_count": null,
      "metadata": {
        "id": "zcIckYd2lY1Y"
      },
      "outputs": [],
      "source": [
        "import numpy as np\n",
        "import pandas as pd\n",
        "\n",
        "import tensorflow as tf\n",
        "from tensorflow.keras import layers, models\n",
        "from tensorflow.keras.preprocessing.image import apply_affine_transform\n",
        "from tensorflow.keras.regularizers import l2\n",
        "from tensorflow.keras.optimizers import RMSprop, Adam\n",
        "from tensorflow.keras.losses import CategoricalCrossentropy\n",
        "from tensorflow.keras.callbacks import ReduceLROnPlateau\n",
        "\n",
        "from sklearn.metrics import f1_score\n",
        "from sklearn.model_selection import train_test_split\n",
        "from sklearn.utils import class_weight\n",
        "\n",
        "\n",
        "from PIL import Image\n",
        "import matplotlib.pyplot as plt\n",
        "\n",
        "from collections import Counter\n"
      ]
    },
    {
      "cell_type": "markdown",
      "metadata": {
        "id": "tjiaq_06lY1Z"
      },
      "source": [
        "# Load Dataset"
      ]
    },
    {
      "cell_type": "code",
      "execution_count": null,
      "metadata": {
        "colab": {
          "base_uri": "https://localhost:8080/",
          "height": 242
        },
        "id": "KTE8aFgtlY1b",
        "outputId": "3a635c57-7f3a-4033-f085-e39b2ba30ede"
      },
      "outputs": [],
      "source": [
        "CSV_FILE_NAME = './data/my_file.csv'\n",
        "arr = pd.read_csv(CSV_FILE_NAME, header=None)"
      ]
    },
    {
      "cell_type": "code",
      "execution_count": null,
      "metadata": {
        "colab": {
          "base_uri": "https://localhost:8080/",
          "height": 381
        },
        "id": "cD8kBY_RlY1c",
        "outputId": "761a067d-da05-4d67-ec5f-64b19d83d1ee"
      },
      "outputs": [],
      "source": [
        "# X, y_class, y_reg = arr.iloc[:, :-5].values, arr.iloc[:, -5:-4].values, arr.iloc[:, -4:].values\n",
        "X, y = arr.iloc[:, :-5].values, arr.iloc[:, -5:].values\n",
        "X = X.reshape(-1, 200, 200, 1)\n",
        "\n",
        "\n",
        "# one hot encoding\n",
        "# y_class = tf.keras.utils.to_categorical(y_class, num_classes=17)\n",
        "\n",
        "# dataset split\n",
        "X_train, X_test, y_train, y_test = train_test_split(X, y, test_size=0.2, random_state=42)\n",
        "y_class_test, y_reg_test = y_test[:, -5:-4], y_test[:, -4:]\n",
        "y_class_train, y_reg_train = y_train[:, -5:-4], y_train[:, -4:]\n",
        "# print(type(y_class_train))\n",
        "y_class_train = y_class_train +1\n",
        "y_class_test = y_class_test +1\n",
        "# y_class_train = [x+1 for x in y_class_train]\n",
        "# y_class_test = [x+1 for x in y_class_test]\n",
        "# print(max(y_class_test))\n",
        "# print(min(y_class_test))\n",
        "\n",
        "# if no data augmentation\n",
        "class_weights = class_weight.compute_class_weight(class_weight='balanced',\n",
        "                                                  classes=np.unique(y_class_train.argmax(axis=1)),\n",
        "                                                  y=y_class_train.argmax(axis=1))\n",
        "\n",
        "class_weights_dict = dict(enumerate(class_weights))\n"
      ]
    },
    {
      "cell_type": "code",
      "execution_count": null,
      "metadata": {},
      "outputs": [],
      "source": [
        "print(y_train.shape, y_test.shape)"
      ]
    },
    {
      "cell_type": "markdown",
      "metadata": {
        "id": "y2QuVowdlY1j"
      },
      "source": [
        "# Model"
      ]
    },
    {
      "cell_type": "code",
      "execution_count": null,
      "metadata": {
        "colab": {
          "base_uri": "https://localhost:8080/"
        },
        "id": "G5ZH1jpMlY1j",
        "outputId": "4fc3f863-37fe-4c66-9afe-3343e7924860"
      },
      "outputs": [],
      "source": [
        "seqmodel = models.Sequential([\n",
        "    layers.Input(shape=(200, 200, 1)),\n",
        "    # layers.Dense(40000),\n",
        "    # layers.Input(shape=(400, 400, 1)),\n",
        "    layers.Conv2D(32, 3, activation='relu'),\n",
        "    # layers.Conv2D(32, 3, kernel_regularizer=l2(0.0001), activation='relu'),\n",
        "    layers.MaxPooling2D(2),\n",
        "    layers.Conv2D(64, 3, activation='relu'),\n",
        "    # layers.Conv2D(64, 3, kernel_regularizer=l2(0.0001), activation='relu'),\n",
        "    layers.MaxPooling2D(2),\n",
        "    layers.Flatten(),\n",
        "    layers.Dropout(0.2),\n",
        "    layers.Dense(64, activation='relu'),\n",
        "    layers.Dropout(0.2),\n",
        "])\n",
        "\n",
        "#change from sequential to functional to enable branches\n",
        "input_layer = layers.Input((200,200,1))\n",
        "prev_layer = input_layer\n",
        "for layer in seqmodel.layers:\n",
        "    prev_layer = layer(prev_layer)\n",
        "\n",
        "\n",
        "outputClass = layers.Dense(17, activation=\"sigmoid\", name=\"CatOut\")(prev_layer)\n",
        "outputReg = layers.Dense(4, activation=\"softmax\", name =\"RegOut\")(prev_layer)\n",
        "\n",
        "#Combine\n",
        "funcmodel = models.Model(inputs=input_layer, outputs=[outputClass, outputReg])\n",
        "# funcmodel = models.Model([input_layer], [prev_layer])\n",
        "\n",
        "\n",
        "reduce_lr = ReduceLROnPlateau(monitor='val_loss', factor=np.sqrt(0.1), patience=5)\n",
        "\n",
        "# f1_metric = tf.metrics.F1Score(average='macro')\n",
        "# f1_metric = tf.metrics.F1Score(average='weighted') # if no data augmentation\n",
        "# mse_metric = tf.metrics.Mean\n",
        "\n",
        "\n",
        "funcmodel.compile(optimizer=Adam(0.001),\n",
        "              loss= {'CatOut': 'sparse_categorical_crossentropy', 'RegOut': 'mse'},\n",
        "              metrics={'CatOut': tf.metrics.SparseCategoricalAccuracy(name='acc'), 'RegOut': 'accuracy'},\n",
        "              )\n",
        "\n",
        "\n",
        "funcmodel.summary()"
      ]
    },
    {
      "cell_type": "code",
      "execution_count": null,
      "metadata": {
        "colab": {
          "base_uri": "https://localhost:8080/",
          "height": 332
        },
        "id": "RT1sGV3ZlY1k",
        "outputId": "1b7c21e4-5759-4770-b716-5fe6a707b355"
      },
      "outputs": [],
      "source": [
        "history = funcmodel.fit(X_train, {'CatOut': y_class_train, 'RegOut': y_reg_train}, epochs=50, validation_data=(X_test, {'CatOut': y_class_test, 'RegOut': y_reg_test}))"
      ]
    },
    {
      "cell_type": "code",
      "execution_count": null,
      "metadata": {
        "id": "V075wvYOlY1k"
      },
      "outputs": [],
      "source": [
        "# Convert model history dictionary to DataFrame\n",
        "df_loss_acc = pd.DataFrame(funcmodel.history.history)\n",
        "\n",
        "# Select loss columns and rename\n",
        "df_loss = df_loss_acc[['loss', 'val_loss']].copy()\n",
        "df_loss.rename(columns={'loss': 'train', 'val_loss': 'validation'}, inplace=True)\n",
        "\n",
        "# Select accuracy columns and rename\n",
        "df_acc = df_loss_acc[['RegOut_accuracy', 'val_RegOut_accuracy']].copy()\n",
        "df_acc.rename(columns={'accuracy': 'train', 'val_accuracy': 'validation'}, inplace=True)\n",
        "\n",
        "# Select accuracy columns and rename\n",
        "df_acc2 = df_loss_acc[['CatOut_acc', 'val_CatOut_acc']].copy()\n",
        "df_acc2.rename(columns={'accuracy': 'train', 'val_accuracy': 'validation'}, inplace=True)\n",
        "\n",
        "# Plot model loss\n",
        "df_loss.plot(title='Model loss', figsize=(12, 8)).set(xlabel='Epoch', ylabel='Loss')\n",
        "\n",
        "# Plot model accuracy\n",
        "df_acc.plot(title='Model Accuracy (Bounding)', figsize=(12, 8)).set(xlabel='Epoch', ylabel='Accuracy')\n",
        "\n",
        "# Plot model accuracy\n",
        "df_acc2.plot(title='Model Accuracy (Category)', figsize=(12, 8)).set(xlabel='Epoch', ylabel='Accuracy')\n"
      ]
    },
    {
      "cell_type": "code",
      "execution_count": null,
      "metadata": {
        "id": "SmRrgMQSlY1k"
      },
      "outputs": [],
      "source": [
        "result = funcmodel.evaluate(X_test, y_test_reg)\n",
        "print(\"Result:\", result)"
      ]
    }
  ],
  "metadata": {
    "colab": {
      "provenance": []
    },
    "kernelspec": {
      "display_name": "Python 3",
      "name": "python3"
    },
    "language_info": {
      "codemirror_mode": {
        "name": "ipython",
        "version": 3
      },
      "file_extension": ".py",
      "mimetype": "text/x-python",
      "name": "python",
      "nbconvert_exporter": "python",
      "pygments_lexer": "ipython3",
      "version": "3.12.2"
    }
  },
  "nbformat": 4,
  "nbformat_minor": 0
}
